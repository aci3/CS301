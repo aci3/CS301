{
 "cells": [
  {
   "cell_type": "code",
   "execution_count": 1,
   "metadata": {},
   "outputs": [],
   "source": [
    "# Author: Akimori Ino\n",
    "# Date: 20200217\n",
    "# CS301-006, Professor Watson\n",
    "# HW03 Solution\n",
    "# test the different outputs we get from different methods of finding the quartiles/outliers\n",
    "# https://github.com/aci3/CS301\n",
    "# https://github.com/aci3/CS301/tree/adda6d43dc7671d14e46cebbf630d9fa78f6661c\n",
    "# master"
   ]
  },
  {
   "cell_type": "markdown",
   "metadata": {},
   "source": [
    "# CS 301 HW3"
   ]
  },
  {
   "cell_type": "code",
   "execution_count": 2,
   "metadata": {},
   "outputs": [],
   "source": [
    "import pandas as pd\n",
    "import numpy as np"
   ]
  },
  {
   "cell_type": "code",
   "execution_count": 3,
   "metadata": {},
   "outputs": [],
   "source": [
    "def data_reader(data_path):\n",
    "    try:\n",
    "        data = pd.read_csv(data_path)\n",
    "        print(\"The shape is: \" + str(data.shape))\n",
    "        return pd.DataFrame(data)\n",
    "    except:\n",
    "        print(\"Error during reading, please try again.\")\n",
    "        return None\n",
    "        "
   ]
  },
  {
   "cell_type": "code",
   "execution_count": 4,
   "metadata": {},
   "outputs": [
    {
     "name": "stdout",
     "output_type": "stream",
     "text": [
      "The shape is: (193, 6)\n"
     ]
    }
   ],
   "source": [
    "my = data_reader(\"drinks.csv\")"
   ]
  },
  {
   "cell_type": "code",
   "execution_count": 5,
   "metadata": {},
   "outputs": [
    {
     "name": "stdout",
     "output_type": "stream",
     "text": [
      "Error during reading, please try again.\n"
     ]
    }
   ],
   "source": [
    "test = data_reader(\"lauren_tsai_is_pretty_cute.csv\")"
   ]
  },
  {
   "cell_type": "code",
   "execution_count": 6,
   "metadata": {},
   "outputs": [],
   "source": [
    "def get_num_outliers(df, col):\n",
    "    numpy_array = np.sort(df[col].to_numpy())\n",
    "    Q1 = np.quantile(numpy_array, .25)\n",
    "    Q3 = np.quantile(numpy_array, .75)\n",
    "    IQR = Q3 - Q1\n",
    "    top = Q3 + IQR*1.5\n",
    "    bot = Q1 - IQR*1.5\n",
    "    count = 0\n",
    "    i = 0;\n",
    "    while numpy_array[i] < bot:# check from index 0 if there are any lower than the floor\n",
    "        count+=1\n",
    "        i += 1\n",
    "    i = len(numpy_array) - 1\n",
    "    while numpy_array[i] > top:# check from last index if there any higher than the ceiling\n",
    "        count+=1\n",
    "        i -= 1\n",
    "    return count"
   ]
  },
  {
   "cell_type": "code",
   "execution_count": 7,
   "metadata": {},
   "outputs": [
    {
     "data": {
      "text/plain": [
       "26"
      ]
     },
     "execution_count": 7,
     "metadata": {},
     "output_type": "execute_result"
    }
   ],
   "source": [
    "get_num_outliers(my,'wine_servings')"
   ]
  },
  {
   "cell_type": "code",
   "execution_count": 8,
   "metadata": {},
   "outputs": [],
   "source": [
    "def get_num_deviants(df, col, multiplier):\n",
    "    numpy_array = np.sort(df[col].to_numpy())\n",
    "    std = numpy_array.std()\n",
    "    mean = numpy_array.mean()\n",
    "    top = mean + std * multiplier \n",
    "    bot = mean - std * multiplier\n",
    "    count = 0\n",
    "    i = 0\n",
    "    while float(numpy_array[i]) < bot:# check from index 0 if there are any lower than the floor\n",
    "        count+=1\n",
    "        i += 1\n",
    "    i = len(numpy_array) - 1\n",
    "    while numpy_array[i] > top:# check from last index if there any higher than the ceiling\n",
    "        count+=1\n",
    "        i -= 1\n",
    "    return count"
   ]
  },
  {
   "cell_type": "code",
   "execution_count": 9,
   "metadata": {},
   "outputs": [
    {
     "data": {
      "text/plain": [
       "29"
      ]
     },
     "execution_count": 9,
     "metadata": {},
     "output_type": "execute_result"
    }
   ],
   "source": [
    "get_num_deviants(my, 'wine_servings', 1)"
   ]
  },
  {
   "cell_type": "code",
   "execution_count": 10,
   "metadata": {},
   "outputs": [
    {
     "data": {
      "text/plain": [
       "15"
      ]
     },
     "execution_count": 10,
     "metadata": {},
     "output_type": "execute_result"
    }
   ],
   "source": [
    "get_num_deviants(my, 'wine_servings', 2)"
   ]
  }
 ],
 "metadata": {
  "kernelspec": {
   "display_name": "Python 3",
   "language": "python",
   "name": "python3"
  },
  "language_info": {
   "codemirror_mode": {
    "name": "ipython",
    "version": 3
   },
   "file_extension": ".py",
   "mimetype": "text/x-python",
   "name": "python",
   "nbconvert_exporter": "python",
   "pygments_lexer": "ipython3",
   "version": "3.7.4"
  }
 },
 "nbformat": 4,
 "nbformat_minor": 2
}
