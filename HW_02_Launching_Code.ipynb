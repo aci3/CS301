{
 "cells": [
  {
   "cell_type": "code",
   "execution_count": 47,
   "metadata": {},
   "outputs": [],
   "source": [
    "# Author: Akimori Ino\n",
    "# Date: 20200207\n",
    "# CS301-006, Professor Watson\n",
    "# HW02 Solution\n",
    "# test the different outputs we get from different methods of finding the quartiles/outliers\n",
    "# https://github.com/aci3/CS301\n",
    "# https://github.com/aci3/CS301/tree/adda6d43dc7671d14e46cebbf630d9fa78f6661c\n",
    "# master"
   ]
  },
  {
   "cell_type": "markdown",
   "metadata": {},
   "source": [
    "## HW 02 - Base Code to Start"
   ]
  },
  {
   "cell_type": "markdown",
   "metadata": {},
   "source": [
    "#### Use these two samples to test your functions"
   ]
  },
  {
   "cell_type": "code",
   "execution_count": 48,
   "metadata": {},
   "outputs": [],
   "source": [
    "grades = [0, 0, 14, 35, 63, 66, 75, 77, 78, 80, 81, 81, 87, 89, 90, 91, 100]"
   ]
  },
  {
   "cell_type": "code",
   "execution_count": 49,
   "metadata": {},
   "outputs": [],
   "source": [
    "times = [5, 10, 10, 15, 15, 15, 15, 20, 20, 20, 25, 30, 30, 40, 40, 45, 60, 60, 65, 89]"
   ]
  },
  {
   "cell_type": "markdown",
   "metadata": {},
   "source": [
    "### Please answer Problem 2 below:"
   ]
  },
  {
   "cell_type": "code",
   "execution_count": 50,
   "metadata": {},
   "outputs": [],
   "source": [
    "import numpy as np\n",
    "\n",
    "def q_summary_V1(numbers):\n",
    "    numbers.sort\n",
    "    ret = {}\n",
    "    ret[\"min\"] = numbers[0]\n",
    "    ret[\"Q1\"] = np.quantile(numbers, .25)\n",
    "    ret[\"Q2\"] = np.quantile(numbers, .5)\n",
    "    ret[\"Q3\"] = np.quantile(numbers, .75)\n",
    "    ret[\"max\"] = numbers[len(numbers)-1]\n",
    "    IQR = ret[\"Q3\"] - ret[\"Q1\"]\n",
    "    top = ret[\"Q3\"] + IQR*1.5\n",
    "    bot = ret[\"Q1\"] - IQR*1.5\n",
    "    outlier = []\n",
    "    i = 0;\n",
    "    while numbers[i] < bot:# check from index 0 if there are any lower than the floor\n",
    "        outlier.append(numbers[i])\n",
    "        i += 1\n",
    "    i = len(numbers) - 1\n",
    "    while numbers[i] > top:# check from last index if there any higher than the ceiling\n",
    "        outlier.append(numbers[i])\n",
    "        i -= 1\n",
    "    if outlier:\n",
    "        print(\"The following are outliers: \" + str(outlier))\n",
    "    return ret\n",
    "    \n"
   ]
  },
  {
   "cell_type": "code",
   "execution_count": 51,
   "metadata": {},
   "outputs": [
    {
     "name": "stdout",
     "output_type": "stream",
     "text": [
      "The following are outliers: [0, 0, 14]\n",
      "{'min': 0, 'Q1': 63.0, 'Q2': 78.0, 'Q3': 87.0, 'max': 100}\n"
     ]
    }
   ],
   "source": [
    "print(q_summary_V1(grades))"
   ]
  },
  {
   "cell_type": "code",
   "execution_count": 52,
   "metadata": {},
   "outputs": [
    {
     "name": "stdout",
     "output_type": "stream",
     "text": [
      "The following are outliers: [89]\n",
      "{'min': 5, 'Q1': 15.0, 'Q2': 22.5, 'Q3': 41.25, 'max': 89}\n"
     ]
    }
   ],
   "source": [
    "print(q_summary_V1(times))"
   ]
  },
  {
   "cell_type": "code",
   "execution_count": null,
   "metadata": {},
   "outputs": [],
   "source": []
  },
  {
   "cell_type": "code",
   "execution_count": null,
   "metadata": {},
   "outputs": [],
   "source": []
  },
  {
   "cell_type": "code",
   "execution_count": null,
   "metadata": {},
   "outputs": [],
   "source": []
  },
  {
   "cell_type": "markdown",
   "metadata": {},
   "source": [
    "### Please answer Problem 3 below:"
   ]
  },
  {
   "cell_type": "code",
   "execution_count": 53,
   "metadata": {},
   "outputs": [],
   "source": [
    "def get_quantile_indexes(n, p):\n",
    "    '''\n",
    "    Calculate index values as input for interpolation\n",
    "    \n",
    "    input\n",
    "    _____\n",
    "    n (list) - the list of numbers\n",
    "    p (float) - the percentage corresponding to the quantile (ex:0.25)\n",
    "    \n",
    "    output\n",
    "    ______\n",
    "    l, i, u (float) - the corresponding x1, x, x1 values as calculated via class\n",
    "    '''\n",
    "    i = p*(n+1) - 1\n",
    "    l = np.floor(i)\n",
    "    u = np.ceil(i)\n",
    "    return l,i,u\n",
    "\n",
    "\n",
    "def get_quantile(nums, q):\n",
    "    '''\n",
    "    Use the in-class method of interpolation to calculate the quantile\n",
    "    \n",
    "    input\n",
    "    _____\n",
    "    nums (list) - the list of numbers\n",
    "    q (float) - the quantile desired\n",
    "    \n",
    "    output\n",
    "    ______\n",
    "    y (int/float) - this is the value in nums at the given quantile q\n",
    "    '''\n",
    "    x1, x, x2 = get_quantile_indexes(len(nums), q)\n",
    "    if np.floor(x) == x1 and np.ceil(x) == x1:\n",
    "        x = int(x)\n",
    "        y = nums[x]\n",
    "        # print('x = {}, y = {}'.format(x, y))\n",
    "        return y\n",
    "        \n",
    "    # print('x1, x, x2 = {}, {}, {}'.format(x1, x, x2))\n",
    "    y1, y2 = nums[int(x1)], nums[int(x2)]\n",
    "    # print('y1, y2 = {}, {}'.format(y1, y2))\n",
    "    y = (x - x1) * (y1-y2) / (x1 - x2) + y1\n",
    "    # print('y =', y)\n",
    "    return y\n",
    "\n",
    "def q_summary_V2(nums):\n",
    "    nums.sort\n",
    "    ret = {}\n",
    "    ret[\"min\"] = nums[0]\n",
    "    ret[\"Q1\"] = get_quantile(nums, .25)\n",
    "    ret[\"Q2\"] = get_quantile(nums, .5)\n",
    "    ret[\"Q3\"] = get_quantile(nums, .75)\n",
    "    ret[\"max\"] = nums[len(nums)-1]\n",
    "    IQR = ret[\"Q3\"] - ret[\"Q1\"]\n",
    "    top = ret[\"Q3\"] + IQR*1.5\n",
    "    bot = ret[\"Q1\"] - IQR*1.5\n",
    "    outlier = []\n",
    "    i = 0;\n",
    "    while nums[i] < bot:# check from index 0 if there are any lower than the floor\n",
    "        outlier.append(nums[i])\n",
    "        i += 1\n",
    "    i = len(nums) - 1\n",
    "    while nums[i] > top:# check from last index if there any higher than the ceiling\n",
    "        outlier.append(nums[i])\n",
    "        i -= 1\n",
    "    if outlier:\n",
    "        print(\"The following are outliers: \" + str(outlier))\n",
    "    return ret\n",
    "\n"
   ]
  },
  {
   "cell_type": "code",
   "execution_count": 54,
   "metadata": {},
   "outputs": [
    {
     "name": "stdout",
     "output_type": "stream",
     "text": [
      "{'min': 0, 'Q1': 49.0, 'Q2': 78, 'Q3': 88.0, 'max': 100}\n"
     ]
    }
   ],
   "source": [
    "print(q_summary_V2(grades))"
   ]
  },
  {
   "cell_type": "code",
   "execution_count": 55,
   "metadata": {},
   "outputs": [
    {
     "name": "stdout",
     "output_type": "stream",
     "text": [
      "The following are outliers: [89]\n",
      "{'min': 5, 'Q1': 15.0, 'Q2': 22.5, 'Q3': 43.75, 'max': 89}\n"
     ]
    }
   ],
   "source": [
    "print(q_summary_V2(times))"
   ]
  },
  {
   "cell_type": "code",
   "execution_count": null,
   "metadata": {},
   "outputs": [],
   "source": []
  },
  {
   "cell_type": "code",
   "execution_count": null,
   "metadata": {},
   "outputs": [],
   "source": []
  }
 ],
 "metadata": {
  "kernelspec": {
   "display_name": "Python 3",
   "language": "python",
   "name": "python3"
  },
  "language_info": {
   "codemirror_mode": {
    "name": "ipython",
    "version": 3
   },
   "file_extension": ".py",
   "mimetype": "text/x-python",
   "name": "python",
   "nbconvert_exporter": "python",
   "pygments_lexer": "ipython3",
   "version": "3.7.0"
  }
 },
 "nbformat": 4,
 "nbformat_minor": 2
}
