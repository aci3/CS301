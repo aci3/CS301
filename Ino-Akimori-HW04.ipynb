{
 "cells": [
  {
   "cell_type": "markdown",
   "metadata": {},
   "source": [
    "# HW4"
   ]
  },
  {
   "cell_type": "code",
   "execution_count": 1,
   "metadata": {},
   "outputs": [],
   "source": [
    "# Author: Akimori Ino\n",
    "# Date: 20200224\n",
    "# CS301-006, Professor Watson\n",
    "# HW04 Solution\n",
    "# Practice locating/Selecting/Modifying dataframes\n",
    "# https://github.com/aci3/CS301\n",
    "# N/A\n",
    "# master"
   ]
  },
  {
   "cell_type": "code",
   "execution_count": 2,
   "metadata": {},
   "outputs": [],
   "source": [
    "import pandas as pd\n",
    "import numpy as np"
   ]
  },
  {
   "cell_type": "markdown",
   "metadata": {},
   "source": [
    "<strong>Problem 1 - get_percent_nans</strong>"
   ]
  },
  {
   "cell_type": "code",
   "execution_count": 3,
   "metadata": {},
   "outputs": [],
   "source": [
    "def get_percent_nans(df, column_name):\n",
    "    return len(df.loc[(df[column_name].isna())])/len(df)*100"
   ]
  },
  {
   "cell_type": "code",
   "execution_count": 4,
   "metadata": {},
   "outputs": [
    {
     "name": "stdout",
     "output_type": "stream",
     "text": [
      "The \"Province/State\"clumn has 24.45% empty values\n",
      "The \"Country/Region\"clumn has 0.00% empty values\n",
      "The \"Last Update\"clumn has 0.00% empty values\n",
      "The \"Confirmed\"clumn has 1.60% empty values\n",
      "The \"Suspected\"clumn has 95.31% empty values\n",
      "The \"Recovered\"clumn has 46.67% empty values\n",
      "The \"Death\"clumn has 53.22% empty values\n"
     ]
    }
   ],
   "source": [
    "df = pd.read_csv(\"2019_nCoV_20200121_20200206.csv\")\n",
    "for col in df.columns:\n",
    "    print('The \\\"{}\\\"clumn has {:.2f}% empty values'.format(col, get_percent_nans(df, col)))"
   ]
  },
  {
   "cell_type": "markdown",
   "metadata": {},
   "source": [
    "<strong>Problem 2</strong>"
   ]
  },
  {
   "cell_type": "code",
   "execution_count": 5,
   "metadata": {},
   "outputs": [
    {
     "name": "stdout",
     "output_type": "stream",
     "text": [
      "                       Death\n",
      "Country/Region              \n",
      "Mainland China        6539.0\n",
      "Philippines             10.0\n",
      "Hong Kong                4.0\n",
      "Australia                0.0\n",
      "Russia                   0.0\n",
      "Singapore                0.0\n",
      "South Korea              0.0\n",
      "Spain                    0.0\n",
      "Sri Lanka                0.0\n",
      "Mexico                   0.0\n",
      "Sweden                   0.0\n",
      "Taiwan                   0.0\n",
      "Thailand                 0.0\n",
      "UK                       0.0\n",
      "United Arab Emirates     0.0\n",
      "United States            0.0\n",
      "Nepal                    0.0\n",
      "Malaysia                 0.0\n",
      "Belgium                  0.0\n",
      "Macau                    0.0\n",
      "Japan                    0.0\n",
      "Ivory Coast              0.0\n",
      "Italy                    0.0\n",
      "India                    0.0\n",
      "Germany                  0.0\n",
      "France                   0.0\n",
      "Finland                  0.0\n",
      "Colombia                 0.0\n",
      "Canada                   0.0\n",
      "Cambodia                 0.0\n",
      "Brazil                   0.0\n",
      "Vietnam                  0.0\n"
     ]
    },
    {
     "data": {
      "text/plain": [
       "'Mainland China'"
      ]
     },
     "execution_count": 5,
     "metadata": {},
     "output_type": "execute_result"
    }
   ],
   "source": [
    "country_df = df.groupby(['Country/Region']).agg({'Death':'sum'}).sort_values(['Death'], ascending=False)\n",
    "print(country_df)\n",
    "country_df.index[0]"
   ]
  },
  {
   "cell_type": "markdown",
   "metadata": {},
   "source": [
    "Looking at the code above, it can be seen that <strong>Mainland China</strong> has the most amount of deaths occured at that time"
   ]
  },
  {
   "cell_type": "markdown",
   "metadata": {},
   "source": [
    "<strong>Problem 3</strong>"
   ]
  },
  {
   "cell_type": "code",
   "execution_count": 6,
   "metadata": {},
   "outputs": [
    {
     "name": "stdout",
     "output_type": "stream",
     "text": [
      "                      Suspected\n",
      "Country/Region                 \n",
      "Hong Kong                1139.0\n",
      "Mainland China            839.0\n",
      "Malaysia                    4.0\n",
      "Philippines                 4.0\n",
      "Mexico                      1.0\n",
      "Australia                   1.0\n",
      "Brazil                      1.0\n",
      "Colombia                    1.0\n",
      "Russia                      0.0\n",
      "United States               0.0\n",
      "United Arab Emirates        0.0\n",
      "UK                          0.0\n",
      "Thailand                    0.0\n",
      "Taiwan                      0.0\n",
      "Sweden                      0.0\n",
      "Sri Lanka                   0.0\n",
      "Spain                       0.0\n",
      "South Korea                 0.0\n",
      "Singapore                   0.0\n",
      "Finland                     0.0\n",
      "France                      0.0\n",
      "Nepal                       0.0\n",
      "Cambodia                    0.0\n",
      "Belgium                     0.0\n",
      "Canada                      0.0\n",
      "Macau                       0.0\n",
      "Japan                       0.0\n",
      "Ivory Coast                 0.0\n",
      "Italy                       0.0\n",
      "India                       0.0\n",
      "Germany                     0.0\n",
      "Vietnam                     0.0\n"
     ]
    },
    {
     "data": {
      "text/plain": [
       "'Hong Kong'"
      ]
     },
     "execution_count": 6,
     "metadata": {},
     "output_type": "execute_result"
    }
   ],
   "source": [
    "country_df = df.groupby(['Country/Region']).agg({'Suspected':'sum'}).sort_values(['Suspected'], ascending=False)\n",
    "print(country_df)\n",
    "country_df.index[0]"
   ]
  },
  {
   "cell_type": "markdown",
   "metadata": {},
   "source": [
    "Looking at the code above, it can be seen that <strong>Hong Kong</strong> has the highest number of suspected cases"
   ]
  },
  {
   "cell_type": "markdown",
   "metadata": {},
   "source": [
    "<strong>Problem 4</strong>"
   ]
  },
  {
   "cell_type": "code",
   "execution_count": 7,
   "metadata": {},
   "outputs": [
    {
     "data": {
      "text/plain": [
       "'Mainland China'"
      ]
     },
     "execution_count": 7,
     "metadata": {},
     "output_type": "execute_result"
    }
   ],
   "source": [
    "country_df = df.groupby(['Country/Region']).agg({'Suspected':'mean'}).sort_values(['Suspected'], ascending=False)\n",
    "country_df\n",
    "country_df.index[1]"
   ]
  },
  {
   "cell_type": "markdown",
   "metadata": {},
   "source": [
    "Looking at the code above, it can be seen that <strong>Mainland China</strong> has the second highest average number of recovered people"
   ]
  },
  {
   "cell_type": "markdown",
   "metadata": {},
   "source": [
    "<strong>Problem 5</strong>"
   ]
  },
  {
   "cell_type": "code",
   "execution_count": 8,
   "metadata": {},
   "outputs": [],
   "source": [
    "countries = {\n",
    "    \"Hong Kong\":\"Asia\",\n",
    "    \"Mainland China\":\"Asia\",\n",
    "    \"Malaysia\":\"Asia\",\n",
    "    \"Philippines\":\"Asia\",\n",
    "    \"Japan\":\"Asia\",\n",
    "    \"Singapore\":\"Asia\",\n",
    "    \"Cambodia\":\"Asia\",\n",
    "    \"India\":\"Asia\",\n",
    "    \"Nepal\":\"Asia\",\n",
    "    \"Macau\":\"Asia\",\n",
    "    \"South Korea\":\"Asia\",\n",
    "    \"Sri Lanka\":\"Asia\",\n",
    "    \"Taiwan\":\"Asia\",\n",
    "    \"United Arab Emirates\":\"Asia\",\n",
    "    \"Thailand\":\"Asia\",\n",
    "    \"Vietnam\":\"Asia\",\n",
    "    \"Australia\":\"Australia\",\n",
    "    \"Brazil\":\"South America\",\n",
    "    \"Columbia\":\"South America\",\n",
    "    \"Mexico\":\"North America\",\n",
    "    \"Belgium\":\"Europe\",\n",
    "    \"Canada\":\"North America\",\n",
    "    \"Finland\":\"Europe\",\n",
    "    \"France\":\"Europe\",\n",
    "    \"Germany\":\"Europe\",\n",
    "    \"Italy\":\"Europe\",\n",
    "    \"Ivory Coast\":\"Africa\",\n",
    "    \"Russia\":\"Europe and Asia (Russia)\",\n",
    "    \"Spain\":\"Europe\",\n",
    "    \"Sweden\":\"Europe\",\n",
    "    \"UK\":\"Europe\",\n",
    "    \"United States\":\"North America\"    \n",
    "}"
   ]
  },
  {
   "cell_type": "markdown",
   "metadata": {},
   "source": [
    "<strong>Problem 6</strong>"
   ]
  },
  {
   "cell_type": "code",
   "execution_count": 9,
   "metadata": {},
   "outputs": [],
   "source": [
    "def get_continent(country):\n",
    "    countries = {\n",
    "    \"Hong Kong\":\"Asia\",\n",
    "    \"Mainland China\":\"Asia\",\n",
    "    \"Malaysia\":\"Asia\",\n",
    "    \"Philippines\":\"Asia\",\n",
    "    \"Japan\":\"Asia\",\n",
    "    \"Singapore\":\"Asia\",\n",
    "    \"Cambodia\":\"Asia\",\n",
    "    \"India\":\"Asia\",\n",
    "    \"Nepal\":\"Asia\",\n",
    "    \"Macau\":\"Asia\",\n",
    "    \"South Korea\":\"Asia\",\n",
    "    \"Sri Lanka\":\"Asia\",\n",
    "    \"Taiwan\":\"Asia\",\n",
    "    \"United Arab Emirates\":\"Asia\",\n",
    "    \"Thailand\":\"Asia\",\n",
    "    \"Vietnam\":\"Asia\",\n",
    "    \"Australia\":\"Australia\",\n",
    "    \"Brazil\":\"South America\",\n",
    "    \"Columbia\":\"South America\",\n",
    "    \"Mexico\":\"North America\",\n",
    "    \"Belgium\":\"Europe\",\n",
    "    \"Canada\":\"North America\",\n",
    "    \"Finland\":\"Europe\",\n",
    "    \"France\":\"Europe\",\n",
    "    \"Germany\":\"Europe\",\n",
    "    \"Italy\":\"Europe\",\n",
    "    \"Ivory Coast\":\"Africa\",\n",
    "    \"Russia\":\"Europe and Asia (Russia)\",\n",
    "    \"Spain\":\"Europe\",\n",
    "    \"Sweden\":\"Europe\",\n",
    "    \"UK\":\"Europe\",\n",
    "    \"United States\":\"North America\"    \n",
    "}\n",
    "    return countries[country]"
   ]
  },
  {
   "cell_type": "code",
   "execution_count": 10,
   "metadata": {},
   "outputs": [
    {
     "data": {
      "text/plain": [
       "'Europe and Asia (Russia)'"
      ]
     },
     "execution_count": 10,
     "metadata": {},
     "output_type": "execute_result"
    }
   ],
   "source": [
    "get_continent(\"Russia\")"
   ]
  },
  {
   "cell_type": "markdown",
   "metadata": {},
   "source": [
    "<strong>Problem 7</strong>"
   ]
  },
  {
   "cell_type": "code",
   "execution_count": 11,
   "metadata": {},
   "outputs": [
    {
     "data": {
      "text/html": [
       "<div>\n",
       "<style scoped>\n",
       "    .dataframe tbody tr th:only-of-type {\n",
       "        vertical-align: middle;\n",
       "    }\n",
       "\n",
       "    .dataframe tbody tr th {\n",
       "        vertical-align: top;\n",
       "    }\n",
       "\n",
       "    .dataframe thead th {\n",
       "        text-align: right;\n",
       "    }\n",
       "</style>\n",
       "<table border=\"1\" class=\"dataframe\">\n",
       "  <thead>\n",
       "    <tr style=\"text-align: right;\">\n",
       "      <th></th>\n",
       "      <th>Province/State</th>\n",
       "      <th>Country/Region</th>\n",
       "      <th>Last Update</th>\n",
       "      <th>Confirmed</th>\n",
       "      <th>Suspected</th>\n",
       "      <th>Recovered</th>\n",
       "      <th>Death</th>\n",
       "      <th>Continent</th>\n",
       "    </tr>\n",
       "  </thead>\n",
       "  <tbody>\n",
       "    <tr>\n",
       "      <td>0</td>\n",
       "      <td>Hubei</td>\n",
       "      <td>Mainland China</td>\n",
       "      <td>2/5/20 16:43</td>\n",
       "      <td>16678.0</td>\n",
       "      <td>NaN</td>\n",
       "      <td>538.0</td>\n",
       "      <td>479.0</td>\n",
       "      <td>Asia</td>\n",
       "    </tr>\n",
       "    <tr>\n",
       "      <td>1</td>\n",
       "      <td>Guangdong</td>\n",
       "      <td>Mainland China</td>\n",
       "      <td>2/5/20 13:23</td>\n",
       "      <td>895.0</td>\n",
       "      <td>NaN</td>\n",
       "      <td>49.0</td>\n",
       "      <td>0.0</td>\n",
       "      <td>Asia</td>\n",
       "    </tr>\n",
       "    <tr>\n",
       "      <td>2</td>\n",
       "      <td>Zhejiang</td>\n",
       "      <td>Mainland China</td>\n",
       "      <td>2/5/20 15:13</td>\n",
       "      <td>895.0</td>\n",
       "      <td>NaN</td>\n",
       "      <td>78.0</td>\n",
       "      <td>0.0</td>\n",
       "      <td>Asia</td>\n",
       "    </tr>\n",
       "    <tr>\n",
       "      <td>3</td>\n",
       "      <td>Henan</td>\n",
       "      <td>Mainland China</td>\n",
       "      <td>2/5/20 15:03</td>\n",
       "      <td>764.0</td>\n",
       "      <td>NaN</td>\n",
       "      <td>47.0</td>\n",
       "      <td>2.0</td>\n",
       "      <td>Asia</td>\n",
       "    </tr>\n",
       "    <tr>\n",
       "      <td>4</td>\n",
       "      <td>Hunan</td>\n",
       "      <td>Mainland China</td>\n",
       "      <td>2/5/20 15:23</td>\n",
       "      <td>661.0</td>\n",
       "      <td>NaN</td>\n",
       "      <td>54.0</td>\n",
       "      <td>0.0</td>\n",
       "      <td>Asia</td>\n",
       "    </tr>\n",
       "    <tr>\n",
       "      <td>...</td>\n",
       "      <td>...</td>\n",
       "      <td>...</td>\n",
       "      <td>...</td>\n",
       "      <td>...</td>\n",
       "      <td>...</td>\n",
       "      <td>...</td>\n",
       "      <td>...</td>\n",
       "      <td>...</td>\n",
       "    </tr>\n",
       "    <tr>\n",
       "      <td>1871</td>\n",
       "      <td>NaN</td>\n",
       "      <td>Sweden</td>\n",
       "      <td>1/31/2020 14:00</td>\n",
       "      <td>1.0</td>\n",
       "      <td>NaN</td>\n",
       "      <td>NaN</td>\n",
       "      <td>NaN</td>\n",
       "      <td>Europe</td>\n",
       "    </tr>\n",
       "    <tr>\n",
       "      <td>1872</td>\n",
       "      <td>NaN</td>\n",
       "      <td>Ivory Coast</td>\n",
       "      <td>1/27/2020 20:30</td>\n",
       "      <td>NaN</td>\n",
       "      <td>NaN</td>\n",
       "      <td>NaN</td>\n",
       "      <td>NaN</td>\n",
       "      <td>Africa</td>\n",
       "    </tr>\n",
       "    <tr>\n",
       "      <td>1873</td>\n",
       "      <td>NaN</td>\n",
       "      <td>Ivory Coast</td>\n",
       "      <td>1/27/2020 19:00</td>\n",
       "      <td>1.0</td>\n",
       "      <td>NaN</td>\n",
       "      <td>NaN</td>\n",
       "      <td>NaN</td>\n",
       "      <td>Africa</td>\n",
       "    </tr>\n",
       "    <tr>\n",
       "      <td>1874</td>\n",
       "      <td>NaN</td>\n",
       "      <td>Mexico</td>\n",
       "      <td>1/23/20 12:00 PM</td>\n",
       "      <td>NaN</td>\n",
       "      <td>1.0</td>\n",
       "      <td>NaN</td>\n",
       "      <td>NaN</td>\n",
       "      <td>North America</td>\n",
       "    </tr>\n",
       "    <tr>\n",
       "      <td>1875</td>\n",
       "      <td>NaN</td>\n",
       "      <td>Brazil</td>\n",
       "      <td>1/23/20 12:00 PM</td>\n",
       "      <td>NaN</td>\n",
       "      <td>1.0</td>\n",
       "      <td>NaN</td>\n",
       "      <td>NaN</td>\n",
       "      <td>South America</td>\n",
       "    </tr>\n",
       "  </tbody>\n",
       "</table>\n",
       "<p>1876 rows × 8 columns</p>\n",
       "</div>"
      ],
      "text/plain": [
       "     Province/State  Country/Region       Last Update  Confirmed  Suspected  \\\n",
       "0             Hubei  Mainland China      2/5/20 16:43    16678.0        NaN   \n",
       "1         Guangdong  Mainland China      2/5/20 13:23      895.0        NaN   \n",
       "2          Zhejiang  Mainland China      2/5/20 15:13      895.0        NaN   \n",
       "3             Henan  Mainland China      2/5/20 15:03      764.0        NaN   \n",
       "4             Hunan  Mainland China      2/5/20 15:23      661.0        NaN   \n",
       "...             ...             ...               ...        ...        ...   \n",
       "1871            NaN          Sweden   1/31/2020 14:00        1.0        NaN   \n",
       "1872            NaN     Ivory Coast   1/27/2020 20:30        NaN        NaN   \n",
       "1873            NaN     Ivory Coast   1/27/2020 19:00        1.0        NaN   \n",
       "1874            NaN          Mexico  1/23/20 12:00 PM        NaN        1.0   \n",
       "1875            NaN          Brazil  1/23/20 12:00 PM        NaN        1.0   \n",
       "\n",
       "      Recovered  Death      Continent  \n",
       "0         538.0  479.0           Asia  \n",
       "1          49.0    0.0           Asia  \n",
       "2          78.0    0.0           Asia  \n",
       "3          47.0    2.0           Asia  \n",
       "4          54.0    0.0           Asia  \n",
       "...         ...    ...            ...  \n",
       "1871        NaN    NaN         Europe  \n",
       "1872        NaN    NaN         Africa  \n",
       "1873        NaN    NaN         Africa  \n",
       "1874        NaN    NaN  North America  \n",
       "1875        NaN    NaN  South America  \n",
       "\n",
       "[1876 rows x 8 columns]"
      ]
     },
     "execution_count": 11,
     "metadata": {},
     "output_type": "execute_result"
    }
   ],
   "source": [
    "country = []\n",
    "continent = []\n",
    "for key in countries:\n",
    "    country.append(key)\n",
    "    continent.append(countries[key])\n",
    "\n",
    "merging = pd.DataFrame({'Country/Region':country,'Continent':continent})\n",
    "#print(merging)\n",
    "newdf = df.merge(merging, on='Country/Region', how='inner')\n",
    "newdf"
   ]
  },
  {
   "cell_type": "markdown",
   "metadata": {},
   "source": [
    "<strong>Problem 8</strong>"
   ]
  },
  {
   "cell_type": "code",
   "execution_count": 12,
   "metadata": {},
   "outputs": [
    {
     "data": {
      "text/html": [
       "<div>\n",
       "<style scoped>\n",
       "    .dataframe tbody tr th:only-of-type {\n",
       "        vertical-align: middle;\n",
       "    }\n",
       "\n",
       "    .dataframe tbody tr th {\n",
       "        vertical-align: top;\n",
       "    }\n",
       "\n",
       "    .dataframe thead th {\n",
       "        text-align: right;\n",
       "    }\n",
       "</style>\n",
       "<table border=\"1\" class=\"dataframe\">\n",
       "  <thead>\n",
       "    <tr style=\"text-align: right;\">\n",
       "      <th></th>\n",
       "      <th>Confirmed</th>\n",
       "    </tr>\n",
       "    <tr>\n",
       "      <th>Continent</th>\n",
       "      <th></th>\n",
       "    </tr>\n",
       "  </thead>\n",
       "  <tbody>\n",
       "    <tr>\n",
       "      <td>Asia</td>\n",
       "      <td>304958.0</td>\n",
       "    </tr>\n",
       "    <tr>\n",
       "      <td>Europe</td>\n",
       "      <td>395.0</td>\n",
       "    </tr>\n",
       "    <tr>\n",
       "      <td>North America</td>\n",
       "      <td>273.0</td>\n",
       "    </tr>\n",
       "    <tr>\n",
       "      <td>Australia</td>\n",
       "      <td>238.0</td>\n",
       "    </tr>\n",
       "    <tr>\n",
       "      <td>Europe and Asia (Russia)</td>\n",
       "      <td>26.0</td>\n",
       "    </tr>\n",
       "    <tr>\n",
       "      <td>Africa</td>\n",
       "      <td>1.0</td>\n",
       "    </tr>\n",
       "    <tr>\n",
       "      <td>South America</td>\n",
       "      <td>0.0</td>\n",
       "    </tr>\n",
       "  </tbody>\n",
       "</table>\n",
       "</div>"
      ],
      "text/plain": [
       "                          Confirmed\n",
       "Continent                          \n",
       "Asia                       304958.0\n",
       "Europe                        395.0\n",
       "North America                 273.0\n",
       "Australia                     238.0\n",
       "Europe and Asia (Russia)       26.0\n",
       "Africa                          1.0\n",
       "South America                   0.0"
      ]
     },
     "execution_count": 12,
     "metadata": {},
     "output_type": "execute_result"
    }
   ],
   "source": [
    "confirmed = newdf.groupby(['Continent']).agg({'Confirmed':'sum'}).sort_values(['Confirmed'], ascending=False)\n",
    "confirmed"
   ]
  },
  {
   "cell_type": "markdown",
   "metadata": {},
   "source": [
    "I listed Russia as 'Europe and Asia' so it may affect the output"
   ]
  }
 ],
 "metadata": {
  "kernelspec": {
   "display_name": "Python 3",
   "language": "python",
   "name": "python3"
  },
  "language_info": {
   "codemirror_mode": {
    "name": "ipython",
    "version": 3
   },
   "file_extension": ".py",
   "mimetype": "text/x-python",
   "name": "python",
   "nbconvert_exporter": "python",
   "pygments_lexer": "ipython3",
   "version": "3.7.4"
  }
 },
 "nbformat": 4,
 "nbformat_minor": 2
}
